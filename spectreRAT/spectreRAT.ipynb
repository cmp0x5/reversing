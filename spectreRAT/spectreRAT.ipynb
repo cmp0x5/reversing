{
 "cells": [
  {
   "cell_type": "code",
   "execution_count": 8,
   "id": "afcb88b7-6fba-43a1-8819-6a2c36c03f7a",
   "metadata": {},
   "outputs": [
    {
     "name": "stdout",
     "output_type": "stream",
     "text": [
      "b'94.156.65.70'\n",
      "b'gatescarmencitamario.com'\n",
      "b'angelinaijfffredrick.com'\n"
     ]
    }
   ],
   "source": [
    "Indicators of Compromise (IoCs):"
   ]
  },
  {
   "cell_type": "code",
   "execution_count": 9,
   "id": "241dc4ec-8503-45e0-859d-c14cc1a659c7",
   "metadata": {},
   "outputs": [
    {
     "name": "stdout",
     "output_type": "stream",
     "text": [
      "b'94.156.65.70'\n",
      "b'gatescarmencitamario.com'\n",
      "b'angelinaijfffredrick.com'\n"
     ]
    }
   ],
   "source": [
    "import base64\n",
    "\n",
    "data1 = b\"OzYuOT02LjY1LDUw\"\n",
    "data1 = base64.b64decode(data1)\n",
    "\n",
    "data2 = b\"ZWN0bXtjYXJtZ2xjaXxjbWFya28sYW9t\"\n",
    "data2 = base64.b64decode(data2)\n",
    "\n",
    "data3 = b\"Y2xnbWRpbmFpaGRmZnpnZHJpYWssYW9t\"\n",
    "data3 = base64.b64decode(data3)\n",
    "\n",
    "key = b\"76E894005c2DE86E40b032a0931D2ABC05C6eB36ACb1C18F5b640aD24Bbc9454\"\n",
    "\n",
    "def decrypt(data):\n",
    "    ptxt = []\n",
    "    for i in range(len(data)):\n",
    "        ptxt.append(data[i] ^ key[i % len(key)] & 0xa)\n",
    "    print(bytes(ptxt))\n",
    "\n",
    "decrypt(data1)\n",
    "decrypt(data2)\n",
    "decrypt(data3)"
   ]
  },
  {
   "cell_type": "code",
   "execution_count": null,
   "id": "26b85911-fbc1-4ead-8bd1-8ad4ef2c2f6d",
   "metadata": {},
   "outputs": [],
   "source": [
    "# Get stuff com .pcap\n",
    "# Oalabs research https://research.openanalysis.net/spectreops/config/strings/cpp/2024/11/21/spectre-ops.html"
   ]
  }
 ],
 "metadata": {
  "kernelspec": {
   "display_name": "Python 3 (ipykernel)",
   "language": "python",
   "name": "python3"
  },
  "language_info": {
   "codemirror_mode": {
    "name": "ipython",
    "version": 3
   },
   "file_extension": ".py",
   "mimetype": "text/x-python",
   "name": "python",
   "nbconvert_exporter": "python",
   "pygments_lexer": "ipython3",
   "version": "3.12.7"
  }
 },
 "nbformat": 4,
 "nbformat_minor": 5
}
